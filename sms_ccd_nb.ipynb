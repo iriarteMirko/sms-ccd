{
 "cells": [
  {
   "cell_type": "code",
   "execution_count": 1,
   "metadata": {},
   "outputs": [],
   "source": [
    "from clase_sms_ccd import Clase_SMS\n",
    "from datetime import datetime, timedelta\n",
    "import pandas as pd\n",
    "import warnings\n",
    "warnings.filterwarnings(\"ignore\")\n",
    "\n",
    "excel_rutas = \"RUTAS.xlsx\"\n",
    "df_rutas = pd.read_excel(excel_rutas)\n",
    "#fecha_hoy = datetime.today()\n",
    "#fecha_ayer = fecha_hoy - timedelta(days=1)\n",
    "#fecha_ayer = fecha_ayer.strftime(\"%Y%m%d\")\n",
    "#fecha_hoy = datetime.today().strftime(\"%Y%m%d\")\n",
    "#fecha_hoy_txt = datetime.today().strftime(\"%d.%m.%Y\")\n",
    "fecha_hoy = \"20240419\"\n",
    "fecha_ayer = \"20240418\"\n",
    "fecha_hoy_txt = \"19.04.2024\"\n",
    "ruta_zfir60 = df_rutas[\"RUTA\"][0]\n",
    "ruta_modelo = df_rutas[\"RUTA\"][1]\n",
    "ruta_dacxanalista = df_rutas[\"RUTA\"][2]\n",
    "\n",
    "reporte = Clase_SMS(fecha_hoy, fecha_ayer, fecha_hoy_txt, ruta_zfir60, ruta_modelo, ruta_dacxanalista)"
   ]
  },
  {
   "cell_type": "code",
   "execution_count": 2,
   "metadata": {},
   "outputs": [
    {
     "name": "stdout",
     "output_type": "stream",
     "text": [
      "Total socios: 709\n",
      "Socios con celular: 463\n",
      "Socios sin celular: 246\n"
     ]
    }
   ],
   "source": [
    "reporte.actualizar_base_celulares()\n",
    "reporte.exportar_deudores()"
   ]
  },
  {
   "cell_type": "code",
   "execution_count": 3,
   "metadata": {},
   "outputs": [
    {
     "name": "stdout",
     "output_type": "stream",
     "text": [
      "RECAUDACION: 463 registros.\n",
      "RECAUDACION DISPONIBLE: 328 registros.\n",
      "RECAUDACION SOBREGIRO: 22 registros.\n",
      "RECAUDACION SIN LINEA: 113 registros.\n",
      "MODELO: 437 registros.\n",
      "MODELO DISPONIBLE: 422 registros.\n",
      "MODELO SOBREGIRO: 4 registros.\n",
      "MODELO SIN LINEA: 11 registros.\n",
      "ZFIR60: 279 registros.\n"
     ]
    }
   ],
   "source": [
    "reporte.preparar_fbl5n()\n",
    "reporte.preparar_recaudacion()\n",
    "reporte.preparar_modelo()\n",
    "reporte.preparar_zfir60()"
   ]
  },
  {
   "cell_type": "code",
   "execution_count": 4,
   "metadata": {},
   "outputs": [
    {
     "name": "stdout",
     "output_type": "stream",
     "text": [
      "MENSAJES LISTOS!!!\n",
      "\n",
      "Nivel 1: 279 destinatarios.\n",
      "LD: 900 destinatarios.\n"
     ]
    }
   ],
   "source": [
    "reporte.exportar_archivos_txt()"
   ]
  },
  {
   "cell_type": "code",
   "execution_count": null,
   "metadata": {},
   "outputs": [],
   "source": [
    "#---------------------------------------- FIN DEL PROGRAMA ----------------------------------------#"
   ]
  },
  {
   "cell_type": "code",
   "execution_count": null,
   "metadata": {},
   "outputs": [],
   "source": [
    "#---------------------------------------- EXPORTAR TXT ----------------------------------------#"
   ]
  },
  {
   "cell_type": "code",
   "execution_count": null,
   "metadata": {},
   "outputs": [],
   "source": [
    "from datetime import datetime, timedelta\n",
    "import pandas as pd\n",
    "import warnings\n",
    "warnings.filterwarnings(\"ignore\")"
   ]
  },
  {
   "cell_type": "code",
   "execution_count": null,
   "metadata": {},
   "outputs": [],
   "source": [
    "fecha_hoy = \"20240419\"\n",
    "fecha_ayer = \"20240418\"\n",
    "fecha_hoy_txt = fecha_hoy_txt\n",
    "\n",
    "ruta_zfir60 = ruta_zfir60 + \"/ZFIR60_\" + fecha_hoy + \".xlsx\"\n",
    "ruta_modelo = ruta_modelo + \"/Modelo de Evaluación de Pedidos de Equipos_\" + fecha_hoy + \".xlsx\"\n",
    "\n",
    "fbl5n = \"./bases/FBL5N.xlsx\"\n",
    "reporte_recaudacion = \"./bases/Reporte_Recaudacion_\" + fecha_hoy + \".csv\"\n",
    "deudores = \"./bases/Deudores.xlsx\"\n",
    "\n",
    "modelo = \"./modelo-zfir-recaudacion/Modelo de Evaluación de Pedidos de Equipos_\" + fecha_hoy + \".xlsx\"\n",
    "zfir = \"./modelo-zfir-recaudacion/Zfir\" + fecha_hoy + \".xlsx\"\n",
    "recaudacion = \"./modelo-zfir-recaudacion/Recaudacion_\" + fecha_hoy + \".xlsx\"\n",
    "\n",
    "ruta_dacxanalista = ruta_dacxanalista + \"/Nuevo_DACxANALISTA.xlsx\"\n",
    "ruta_base_celulares = \"./bases/Base_Celulares_CCD.xlsx\"\n",
    "\n",
    "ld = \"./archivos-txt/LD \" + fecha_hoy_txt + \".txt\"\n",
    "nivel_1 = \"./archivos-txt/Nivel 1 \" + fecha_hoy_txt + \".txt\""
   ]
  },
  {
   "cell_type": "code",
   "execution_count": null,
   "metadata": {},
   "outputs": [],
   "source": [
    "df_zfir60 = pd.read_excel(ruta_zfir60, sheet_name=\"Sheet1\")\n",
    "df_zfir60 = df_zfir60[[\"Cliente Pa\", \"Total Vencida\"]]\n",
    "df_zfir60[\"Total Vencida\"] = df_zfir60[\"Total Vencida\"].clip(lower=0)\n",
    "df_zfir60 = df_zfir60.groupby(\"Cliente Pa\")[\"Total Vencida\"].sum().reset_index()\n",
    "df_zfir60.to_excel(zfir, sheet_name=\"BASE\", index=False)\n",
    "df_zfir60.shape"
   ]
  },
  {
   "cell_type": "code",
   "execution_count": null,
   "metadata": {},
   "outputs": [],
   "source": [
    "df_recaudacion = pd.read_csv(reporte_recaudacion, encoding=\"latin1\")\n",
    "df_recaudacion = df_recaudacion.drop(\"USER_ID\", axis=1)\n",
    "df_recaudacion = df_recaudacion[df_recaudacion[\"FECHA_RECAUDACION\"] == int(fecha_ayer)]"
   ]
  },
  {
   "cell_type": "code",
   "execution_count": null,
   "metadata": {},
   "outputs": [],
   "source": [
    "df_fbl5n = pd.read_excel(fbl5n)\n",
    "df_fbl5n = df_fbl5n[df_fbl5n[\"Cuenta\"].notna()]\n",
    "df_fbl5n = df_fbl5n[df_fbl5n[\"ACC\"] == \"PE07\"]\n",
    "df_fbl5n = df_fbl5n[[\"Cuenta\",\"Importe en ML\"]]\n",
    "df_fbl5n[\"Importe en ML\"] = df_fbl5n[\"Importe en ML\"] * -1\n",
    "df_fbl5n = df_fbl5n.groupby(\"Cuenta\")[\"Importe en ML\"].sum().reset_index()"
   ]
  },
  {
   "cell_type": "code",
   "execution_count": null,
   "metadata": {},
   "outputs": [],
   "source": [
    "df_modelo = pd.read_excel(modelo, sheet_name=\"Base\")\n",
    "columnas_modelo = [\"DEUDOR\", \"NOMBRE\", \"LINEA DISPONIBLE EQUIPOS RESTANTE\"]\n",
    "df_modelo = df_modelo[columnas_modelo]\n",
    "df_modelo.shape"
   ]
  },
  {
   "cell_type": "code",
   "execution_count": null,
   "metadata": {},
   "outputs": [],
   "source": [
    "df_fbl5n.set_index(\"Cuenta\", inplace=True)\n",
    "df_recaudacion[\"FALTA\"] = df_recaudacion[\"SAP\"].map(df_fbl5n[\"Importe en ML\"])\n",
    "df_recaudacion[\"FALTA\"].fillna(0, inplace=True)\n",
    "df_fbl5n.reset_index(inplace=True)\n",
    "df_recaudacion[\"RESTA\"] = df_recaudacion[\"LIMITE_CREDITICIO\"] - df_recaudacion[\"SALDO_ACTUAL\"]\n",
    "df_recaudacion[\"TOTAL\"] = df_recaudacion[\"FALTA\"] + df_recaudacion[\"RESTA\"]\n",
    "df_recaudacion.to_excel(recaudacion, sheet_name=\"BASE\", index=False)\n",
    "df_recaudacion.reset_index(inplace=True, drop=True)\n",
    "df_recaudacion.shape"
   ]
  },
  {
   "cell_type": "code",
   "execution_count": null,
   "metadata": {},
   "outputs": [],
   "source": [
    "df_dacxanalista = pd.read_excel(ruta_dacxanalista, sheet_name=\"Base_NUEVA\")\n",
    "df_dacxanalista = df_dacxanalista[[\"DEUDOR\", \"TIPO_DAC\", \"ESTADO\"]]\n",
    "estados = [\"OPERATIVO CON MOVIMIENTO\", \"OPERATIVO SIN MOVIMIENTO\"]\n",
    "lista_tipo_dac_no_validos = [\"PVA\", \"TARJETERO\", \"RED\", \"RECARGA FFVV\", \"PROVEEDOR\", \n",
    "                            \"CROSSBORDER\", \"CDR\", \"CACE\", \"AGENTE TELMEX\", \n",
    "                            \"AGENTE TELMEX  / RED\", \"DAC RURAL\"]\n",
    "df_dacxanalista = df_dacxanalista[df_dacxanalista[\"ESTADO\"].isin(estados)]\n",
    "df_dacxanalista = df_dacxanalista[~df_dacxanalista[\"TIPO_DAC\"].isin(lista_tipo_dac_no_validos)]\n",
    "\n",
    "# Valida que los deudores de la base se encuentren operativos en el dacxanalista\n",
    "deudores_dacxanalista = df_dacxanalista[\"DEUDOR\"].tolist()\n",
    "print(len(deudores_dacxanalista))\n",
    "ruta_base_celulares = \"./bases/Base_Celulares_CCD.xlsx\"\n",
    "df_base_celulares = pd.read_excel(ruta_base_celulares)\n",
    "deudores_base = df_base_celulares[\"DEUDOR\"].tolist()\n",
    "\n",
    "no_encontrados = []\n",
    "for deudor in deudores_base:\n",
    "    if deudor not in deudores_dacxanalista:\n",
    "        no_encontrados.append(deudor)\n",
    "print(\"Deudores no encontrados:\",len(no_encontrados), no_encontrados)\n",
    "print(\"Deudores encontrados:\",len(deudores_base)-len(no_encontrados))\n",
    "\n",
    "# Valida que los deudores tengan un celular valido\n",
    "df_base_celulares = df_base_celulares[~df_base_celulares[\"DEUDOR\"].isin(no_encontrados)]\n",
    "df_base_celulares = df_base_celulares[[\"DEUDOR\", \"NOMBRE\", \"CELULAR\"]]\n",
    "df_base_celulares = df_base_celulares[df_base_celulares[\"CELULAR\"]!=0]\n",
    "print(\"Deudores con celular:\", df_base_celulares.shape[0])"
   ]
  },
  {
   "cell_type": "code",
   "execution_count": null,
   "metadata": {},
   "outputs": [],
   "source": [
    "df_base_celulares[\"NOMBRE\"] = df_base_celulares[\"NOMBRE\"].str.replace(\"á\", \"a\")\n",
    "df_base_celulares[\"NOMBRE\"] = df_base_celulares[\"NOMBRE\"].str.replace(\"é\", \"e\")\n",
    "df_base_celulares[\"NOMBRE\"] = df_base_celulares[\"NOMBRE\"].str.replace(\"í\", \"i\")\n",
    "df_base_celulares[\"NOMBRE\"] = df_base_celulares[\"NOMBRE\"].str.replace(\"ó\", \"o\")\n",
    "df_base_celulares[\"NOMBRE\"] = df_base_celulares[\"NOMBRE\"].str.replace(\"ú\", \"u\")\n",
    "df_base_celulares[\"NOMBRE\"] = df_base_celulares[\"NOMBRE\"].str.replace(\"Á\", \"A\")\n",
    "df_base_celulares[\"NOMBRE\"] = df_base_celulares[\"NOMBRE\"].str.replace(\"É\", \"E\")\n",
    "df_base_celulares[\"NOMBRE\"] = df_base_celulares[\"NOMBRE\"].str.replace(\"Í\", \"I\")\n",
    "df_base_celulares[\"NOMBRE\"] = df_base_celulares[\"NOMBRE\"].str.replace(\"Ó\", \"O\")\n",
    "df_base_celulares[\"NOMBRE\"] = df_base_celulares[\"NOMBRE\"].str.replace(\"Ú\", \"U\")\n",
    "df_base_celulares[\"NOMBRE\"] = df_base_celulares[\"NOMBRE\"].str.replace(\"  \", \" \")\n",
    "df_base_celulares[\"NOMBRE\"] = df_base_celulares[\"NOMBRE\"].str.replace(\"  \", \" \")"
   ]
  },
  {
   "cell_type": "code",
   "execution_count": null,
   "metadata": {},
   "outputs": [],
   "source": [
    "# Nivel 1 (ZFIR60)\n",
    "# 51,Text,\"Estimado Socio: Le informamos que tiene una deuda vencida de S/ , puede pagarla desde la Web y App de bancos principales. Mayor informacion en el Portal de Canales: https://portaldistribuidores.claro.com.pe. Creditos y Cobranzas Distribuidores.\"\n",
    "\n",
    "# LDE (MODELO)\n",
    "# 51,Text,\"Estimado Socio , le informamos que su Linea Disponible de Equipos de hoy es S/ , puede realizar pedidos de equipos valorizados a precio prepago hasta este importe, sujeto a evaluacion crediticia. Creditos y Cobranzas le desea un excelente dia.\"\n",
    "# 51,Text,\"Estimado Socio , le informamos que el dia de hoy cuenta con sobregiro en Linea Disponible para compra de Equipos de S/ . Para mas informacion contacte a su analista. Creditos y Cobranzas le desea un excelente dia.\"\n",
    "# 51,Text,\"Estimado Socio , le informamos que el dia de hoy no cuenta con Linea Disponible para compra de Equipos. Para mas informacion contacte a su analista. Creditos y Cobranzas le desea un excelente dia.\"\n",
    "\n",
    "\n",
    "# Recaudación (RECAUDACION)\n",
    "# 51,Text,\"Estimado Socio , le informamos que su Linea Disponible en RECAUDACION es S/ , puede realizar su pedido hasta este importe. Creditos y Cobranzas le desea un excelente dia.\"\n",
    "# 51,Text,\"Estimado Socio , le informamos que el dia de hoy cuenta con sobregiro en RECAUDACION de S/ . Para mayor informacion contacte a su analista de C&CD.\"\n",
    "# 51,Text,\"Estimado Socio , le informamos que el día de hoy no cuenta con Linea Disponible en RECAUDACION. Para mayor informacion contacte a su analista de C&CD.\"\n"
   ]
  },
  {
   "cell_type": "code",
   "execution_count": null,
   "metadata": {},
   "outputs": [],
   "source": [
    "df_cruce_zfir60 = df_base_celulares.merge(df_zfir60, left_on=\"DEUDOR\", right_on=\"Cliente Pa\", how=\"left\")\n",
    "df_cruce_zfir60 = df_cruce_zfir60[[\"CELULAR\", \"Total Vencida\"]]\n",
    "print(df_cruce_zfir60.shape)\n",
    "df_cruce_zfir60 = df_cruce_zfir60[df_cruce_zfir60[\"Total Vencida\"] != 0]\n",
    "df_cruce_zfir60.to_excel(\"A.xlsx\", index=False)\n",
    "df_cruce_zfir60[\"Total Vencida\"] = df_cruce_zfir60[\"Total Vencida\"].apply(\n",
    "    lambda x: \"{:,.2f}\".format(x).replace(\",\", \"x\").replace(\".\", \",\").replace(\"x\", \".\"))\n",
    "df_cruce_zfir60.reset_index(drop=True, inplace=True)\n",
    "print(df_cruce_zfir60.shape)"
   ]
  },
  {
   "cell_type": "code",
   "execution_count": null,
   "metadata": {},
   "outputs": [],
   "source": [
    "#51,Text,\"Estimado Socio: Le informamos que tiene una deuda vencida de S/ , puede pagarla desde la Web y App de bancos principales. Mayor informacion en el Portal de Canales: https://portaldistribuidores.claro.com.pe. Creditos y Cobranzas Distribuidores.\"\n",
    "df_cruce_zfir60[\"Texto\"] = df_cruce_zfir60.apply(\n",
    "    lambda row: f'51{row[\"CELULAR\"]},Text,\"Estimado Socio: Le informamos que tiene una deuda vencida de S/{row[\"Total Vencida\"]}, puede pagarla desde la Web y App de bancos principales. Mayor informacion en el Portal de Canales: https://portaldistribuidores.claro.com.pe. Creditos y Cobranzas Distribuidores.\"', axis=1)\n",
    "print(df_cruce_zfir60[\"Texto\"][0])\n",
    "lista_nivel1 = df_cruce_zfir60[\"Texto\"].to_list()\n",
    "print(len(lista_nivel1))\n",
    "with open(nivel_1, \"w\") as f:\n",
    "    for item in lista_nivel1:\n",
    "        f.write(\"%s\\n\" % item)"
   ]
  },
  {
   "cell_type": "code",
   "execution_count": null,
   "metadata": {},
   "outputs": [],
   "source": []
  },
  {
   "cell_type": "code",
   "execution_count": null,
   "metadata": {},
   "outputs": [],
   "source": [
    "df_cruce_recaudacion = df_base_celulares.merge(df_recaudacion, left_on=\"DEUDOR\", right_on=\"SAP\", how=\"left\")\n",
    "df_cruce_recaudacion = df_cruce_recaudacion[[\"CELULAR\", \"NOMBRE\", \"TOTAL\"]]\n",
    "df_cruce_recaudacion[\"TOTAL\"].fillna(0, inplace=True)\n",
    "df_cruce_recaudacion = df_cruce_recaudacion.sort_values(by=\"TOTAL\", ascending=True)\n",
    "print(df_cruce_recaudacion.shape)\n",
    "df_cruce_recaudacion[\"TIPO\"] = df_cruce_recaudacion[\"TOTAL\"].apply(\n",
    "    lambda x: \"DISPONIBLE\" if x > 0 else (\"SIN_LINEA\" if x == 0 else \"SOBREGIRO\"))\n",
    "df_cruce_recaudacion[\"TOTAL\"] = df_cruce_recaudacion[\"TOTAL\"].apply(\n",
    "    lambda x: \"{:,.2f}\".format(x).replace(\",\", \"x\").replace(\".\", \",\").replace(\"x\", \".\"))\n",
    "df_cruce_recaudacion.reset_index(drop=True, inplace=True)\n",
    "print(df_cruce_recaudacion.shape)\n",
    "df_cruce_recaudacion.to_excel(\"XD.xlsx\", index=False)"
   ]
  },
  {
   "cell_type": "code",
   "execution_count": null,
   "metadata": {},
   "outputs": [],
   "source": [
    "def generar_texto(row):\n",
    "    if row[\"TIPO\"] == \"DISPONIBLE\":\n",
    "        return f'51{row[\"CELULAR\"]},Text,\"Estimado Socio {row[\"NOMBRE\"]}, le informamos que su Linea Disponible en RECAUDACION es S/ {row[\"TOTAL\"]}, puede realizar su pedido hasta este importe. Creditos y Cobranzas le desea un excelente dia.\"'\n",
    "    elif row[\"TIPO\"] == \"SOBREGIRO\":\n",
    "        return f'51{row[\"CELULAR\"]},Text,\"Estimado Socio {row[\"NOMBRE\"]}, le informamos que el dia de hoy cuenta con sobregiro en RECAUDACION de S/ {row[\"TOTAL\"]}. Para mayor informacion contacte a su analista de C&CD.\"'\n",
    "    elif row[\"TIPO\"] == \"SIN_LINEA\":\n",
    "        return f'51{row[\"CELULAR\"]},Text,\"Estimado Socio {row[\"NOMBRE\"]}, le informamos que el día de hoy no cuenta con Linea Disponible en RECAUDACION. Para mayor informacion contacte a su analista de C&CD.\"'\n"
   ]
  },
  {
   "cell_type": "code",
   "execution_count": null,
   "metadata": {},
   "outputs": [],
   "source": [
    "df_cruce_recaudacion[\"TEXTO\"] = df_cruce_recaudacion.apply(generar_texto, axis=1)"
   ]
  },
  {
   "cell_type": "code",
   "execution_count": null,
   "metadata": {},
   "outputs": [],
   "source": [
    "a = df_cruce_recaudacion[\"TEXTO\"].to_list()\n",
    "a"
   ]
  },
  {
   "cell_type": "code",
   "execution_count": null,
   "metadata": {},
   "outputs": [],
   "source": [
    "len(a)"
   ]
  },
  {
   "cell_type": "code",
   "execution_count": null,
   "metadata": {},
   "outputs": [],
   "source": [
    "df_cruce_modelo = df_base_celulares.merge(df_modelo, left_on=\"DEUDOR\", right_on=\"DEUDOR\", how=\"inner\")\n",
    "df_cruce_modelo = df_cruce_modelo[[\"CELULAR\", \"NOMBRE_x\", \"LINEA DISPONIBLE EQUIPOS RESTANTE\"]]\n",
    "df_cruce_modelo = df_cruce_modelo.rename(columns={\"NOMBRE_x\": \"NOMBRE\", \"LINEA DISPONIBLE EQUIPOS RESTANTE\": \"TOTAL\"})\n",
    "print(df_cruce_modelo['TOTAL'].isna().any())\n",
    "df_cruce_modelo = df_cruce_modelo.sort_values(by=\"TOTAL\", ascending=True)\n",
    "print(df_cruce_modelo.shape)\n",
    "df_cruce_modelo[\"TIPO\"] = df_cruce_modelo[\"TOTAL\"].apply(\n",
    "    lambda x: \"DISPONIBLE\" if x > 0 else (\"SIN_LINEA\" if x == 0 else \"SOBREGIRO\"))\n",
    "df_cruce_modelo[\"TOTAL\"] = df_cruce_modelo[\"TOTAL\"].apply(\n",
    "    lambda x: \"{:,.2f}\".format(x).replace(\",\", \"x\").replace(\".\", \",\").replace(\"x\", \".\"))\n",
    "df_cruce_modelo.reset_index(drop=True, inplace=True)\n",
    "print(df_cruce_modelo.shape)"
   ]
  },
  {
   "cell_type": "code",
   "execution_count": null,
   "metadata": {},
   "outputs": [],
   "source": [
    "df_cruce_modelo.head(50)"
   ]
  },
  {
   "cell_type": "code",
   "execution_count": null,
   "metadata": {},
   "outputs": [],
   "source": [
    "def generar_texto(row):\n",
    "    if row[\"TIPO\"] == \"DISPONIBLE\":\n",
    "        return f'51{row[\"CELULAR\"]},Text,\"Estimado Socio {row[\"NOMBRE\"]}, le informamos que su Linea Disponible de Equipos de hoy es S/ {row[\"TOTAL\"]}, puede realizar pedidos de equipos valorizados a precio prepago hasta este importe, sujeto a evaluacion crediticia. Creditos y Cobranzas le desea un excelente dia.\"'\n",
    "    elif row[\"TIPO\"] == \"SOBREGIRO\":\n",
    "        return f'51{row[\"CELULAR\"]},Text,\"Estimado Socio {row[\"NOMBRE\"]}, le informamos que el dia de hoy cuenta con sobregiro en Linea Disponible para compra de Equipos de S/ {row[\"TOTAL\"]}. Para mas informacion contacte a su analista. Creditos y Cobranzas le desea un excelente dia.\"'\n",
    "    elif row[\"TIPO\"] == \"SIN_LINEA\":\n",
    "        return f'51{row[\"CELULAR\"]},Text,\"Estimado Socio {row[\"NOMBRE\"]}, le informamos que el dia de hoy no cuenta con Linea Disponible para compra de Equipos. Para mas informacion contacte a su analista. Creditos y Cobranzas le desea un excelente dia.\"'\n"
   ]
  },
  {
   "cell_type": "code",
   "execution_count": null,
   "metadata": {},
   "outputs": [],
   "source": [
    "df_cruce_modelo[\"TEXTO\"] = df_cruce_modelo.apply(generar_texto, axis=1)"
   ]
  },
  {
   "cell_type": "code",
   "execution_count": null,
   "metadata": {},
   "outputs": [],
   "source": [
    "a = df_cruce_modelo[\"TEXTO\"].to_list()\n",
    "a"
   ]
  },
  {
   "cell_type": "code",
   "execution_count": null,
   "metadata": {},
   "outputs": [],
   "source": [
    "with open(nivel_1, \"w\") as f:\n",
    "    for item in lista_nivel1:\n",
    "        f.write(\"%s\\n\" % item)"
   ]
  },
  {
   "cell_type": "code",
   "execution_count": null,
   "metadata": {},
   "outputs": [],
   "source": [
    "df_LD = pd.concat([df_cruce_modelo, df_cruce_recaudacion], ignore_index=True)\n",
    "lista_ld = df_LD[\"TEXTO\"].to_list()\n",
    "with open(ld, \"w\") as f:\n",
    "    for item in lista_ld:\n",
    "        f.write(\"%s\\n\" % item)"
   ]
  }
 ],
 "metadata": {
  "kernelspec": {
   "display_name": "Python 3",
   "language": "python",
   "name": "python3"
  },
  "language_info": {
   "codemirror_mode": {
    "name": "ipython",
    "version": 3
   },
   "file_extension": ".py",
   "mimetype": "text/x-python",
   "name": "python",
   "nbconvert_exporter": "python",
   "pygments_lexer": "ipython3",
   "version": "3.10.9"
  }
 },
 "nbformat": 4,
 "nbformat_minor": 2
}
