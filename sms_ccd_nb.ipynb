{
 "cells": [
  {
   "cell_type": "code",
   "execution_count": 3,
   "metadata": {},
   "outputs": [],
   "source": [
    "from clase_sms_ccd import Clase_SMS\n",
    "from datetime import datetime, timedelta\n",
    "import pandas as pd\n",
    "import warnings\n",
    "warnings.filterwarnings('ignore')\n",
    "\n",
    "excel_rutas = \"./RUTAS.xlsx\"\n",
    "df_rutas = pd.read_excel(excel_rutas)\n",
    "fecha_hoy = datetime.today()\n",
    "fecha_ayer = fecha_hoy - timedelta(days=1)\n",
    "fecha_ayer = fecha_ayer.strftime(\"%Y%m%d\")\n",
    "fecha_hoy = datetime.today().strftime(\"%Y%m%d\")\n",
    "fecha_hoy_txt = datetime.today().strftime(\"%d.%m.%Y\")\n",
    "ruta_zfir60 = df_rutas[\"RUTA\"][0]\n",
    "ruta_modelo = df_rutas[\"RUTA\"][1]\n",
    "ruta_dacxanalista = df_rutas[\"RUTA\"][2]\n",
    "\n",
    "reporte = Clase_SMS(fecha_hoy, fecha_ayer, fecha_hoy_txt, ruta_zfir60, ruta_modelo, ruta_dacxanalista)"
   ]
  },
  {
   "cell_type": "code",
   "execution_count": null,
   "metadata": {},
   "outputs": [],
   "source": [
    "reporte.traer_archivos()\n",
    "reporte.preparar_zfir60()\n",
    "reporte.exportar_deudores_sap()"
   ]
  },
  {
   "cell_type": "code",
   "execution_count": null,
   "metadata": {},
   "outputs": [],
   "source": [
    "reporte.preparar_fbl5n()\n",
    "reporte.preparar_recaudacion()"
   ]
  },
  {
   "cell_type": "code",
   "execution_count": null,
   "metadata": {},
   "outputs": [],
   "source": [
    "reporte.exportar_archivos_txt()"
   ]
  },
  {
   "cell_type": "code",
   "execution_count": null,
   "metadata": {},
   "outputs": [],
   "source": [
    "#---------------------------------------- FIN DEL PROGRAMA ----------------------------------------#"
   ]
  },
  {
   "cell_type": "code",
   "execution_count": null,
   "metadata": {},
   "outputs": [],
   "source": [
    "#---------------------------------------- EXPORTAR TXT ----------------------------------------#"
   ]
  },
  {
   "cell_type": "code",
   "execution_count": null,
   "metadata": {},
   "outputs": [],
   "source": [
    "from datetime import datetime, timedelta\n",
    "import pandas as pd\n",
    "import warnings\n",
    "warnings.filterwarnings('ignore')"
   ]
  },
  {
   "cell_type": "code",
   "execution_count": null,
   "metadata": {},
   "outputs": [],
   "source": [
    "df_dacxanalista = pd.read_excel(ruta_dacxanalista, sheet_name=\"Base_NUEVA\")\n",
    "df_dacxanalista = df_dacxanalista[[\"DEUDOR\", \"TIPO_DAC\", \"ESTADO\"]]\n",
    "estados = [\"OPERATIVO CON MOVIMIENTO\", \"OPERATIVO SIN MOVIMIENTO\"]\n",
    "lista_tipo_dac_no_validos = [\"PVA\", \"TARJETERO\", \"RED\", \"RECARGA FFVV\", \"PROVEEDOR\", \"CROSSBORDER\", \"CDR\", \"CACE\", \"AGENTE TELMEX\", \"AGENTE TELMEX  / RED\", \"DAC RURAL\"]\n",
    "df_dacxanalista = df_dacxanalista[df_dacxanalista[\"ESTADO\"].isin(estados)]\n",
    "df_dacxanalista = df_dacxanalista[~df_dacxanalista[\"TIPO_DAC\"].isin(lista_tipo_dac_no_validos)]\n",
    "\n",
    "# Valida que los deudores de la base se encuentren operativos en el dacxanalista\n",
    "deudores_dacxanalista = df_dacxanalista[\"DEUDOR\"].tolist()\n",
    "ruta_base_celulares = \"./BASE CELULARES/BASE CELULARES.xlsx\"\n",
    "df_base_celulares = pd.read_excel(ruta_base_celulares)\n",
    "deudores_base = df_base_celulares[\"DEUDOR\"].tolist()\n",
    "\n",
    "no_encontrados = []\n",
    "for deudor in deudores_base:\n",
    "    if deudor not in deudores_dacxanalista:\n",
    "        no_encontrados.append(deudor)\n",
    "print(\"Deudores no encontrados:\",len(no_encontrados))\n",
    "print(\"Deudores encontrados:\",len(deudores_base)-len(no_encontrados))\n",
    "\n",
    "# Valida que los deudores tengan un celular valido\n",
    "df_base_celulares = df_base_celulares[~df_base_celulares[\"DEUDOR\"].isin(no_encontrados)]\n",
    "df_base_celulares = df_base_celulares[[\"DEUDOR\", \"NOMBRE\", \"CELULAR\"]]\n",
    "df_base_celulares = df_base_celulares[df_base_celulares[\"CELULAR\"]!=0]\n",
    "print(\"Deudores con celular:\", df_base_celulares.shape[0])"
   ]
  },
  {
   "cell_type": "code",
   "execution_count": null,
   "metadata": {},
   "outputs": [],
   "source": []
  },
  {
   "cell_type": "code",
   "execution_count": null,
   "metadata": {},
   "outputs": [],
   "source": [
    "df_base_celulares.shape"
   ]
  },
  {
   "cell_type": "code",
   "execution_count": null,
   "metadata": {},
   "outputs": [],
   "source": []
  },
  {
   "cell_type": "code",
   "execution_count": null,
   "metadata": {},
   "outputs": [],
   "source": [
    "df_dacxanalista.to_excel(\"DACxANALISTA.xlsx\",index=False)"
   ]
  }
 ],
 "metadata": {
  "kernelspec": {
   "display_name": "Python 3",
   "language": "python",
   "name": "python3"
  },
  "language_info": {
   "codemirror_mode": {
    "name": "ipython",
    "version": 3
   },
   "file_extension": ".py",
   "mimetype": "text/x-python",
   "name": "python",
   "nbconvert_exporter": "python",
   "pygments_lexer": "ipython3",
   "version": "3.10.9"
  }
 },
 "nbformat": 4,
 "nbformat_minor": 2
}
