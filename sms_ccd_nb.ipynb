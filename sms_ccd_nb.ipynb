{
 "cells": [
  {
   "cell_type": "code",
   "execution_count": 1,
   "metadata": {},
   "outputs": [],
   "source": [
    "from clase_sms_ccd import Clase_SMS\n",
    "from datetime import datetime, timedelta\n",
    "import pandas as pd\n",
    "import warnings\n",
    "warnings.filterwarnings(\"ignore\")\n",
    "\n",
    "excel_rutas = \"RUTAS.xlsx\"\n",
    "df_rutas = pd.read_excel(excel_rutas)\n",
    "fecha_hoy = datetime.today()\n",
    "fecha_ayer = fecha_hoy - timedelta(days=1)\n",
    "fecha_ayer = fecha_ayer.strftime(\"%Y%m%d\")\n",
    "fecha_hoy = datetime.today().strftime(\"%Y%m%d\")\n",
    "fecha_hoy_txt = datetime.today().strftime(\"%d.%m.%Y\")\n",
    "ruta_zfir60 = df_rutas[\"RUTA\"][0]\n",
    "ruta_modelo = df_rutas[\"RUTA\"][1]\n",
    "ruta_dacxanalista = df_rutas[\"RUTA\"][2]\n",
    "\n",
    "reporte = Clase_SMS(fecha_hoy, fecha_ayer, fecha_hoy_txt, ruta_zfir60, ruta_modelo, ruta_dacxanalista)"
   ]
  },
  {
   "cell_type": "code",
   "execution_count": 2,
   "metadata": {},
   "outputs": [],
   "source": [
    "reporte.traer_archivos()\n",
    "reporte.preparar_zfir60()\n",
    "reporte.exportar_deudores()"
   ]
  },
  {
   "cell_type": "code",
   "execution_count": 3,
   "metadata": {},
   "outputs": [],
   "source": [
    "reporte.preparar_fbl5n()\n",
    "reporte.preparar_recaudacion()"
   ]
  },
  {
   "cell_type": "code",
   "execution_count": 4,
   "metadata": {},
   "outputs": [],
   "source": [
    "reporte.exportar_archivos_txt()"
   ]
  },
  {
   "cell_type": "code",
   "execution_count": null,
   "metadata": {},
   "outputs": [],
   "source": [
    "#---------------------------------------- FIN DEL PROGRAMA ----------------------------------------#"
   ]
  },
  {
   "cell_type": "code",
   "execution_count": null,
   "metadata": {},
   "outputs": [],
   "source": [
    "#---------------------------------------- EXPORTAR TXT ----------------------------------------#"
   ]
  },
  {
   "cell_type": "code",
   "execution_count": 5,
   "metadata": {},
   "outputs": [],
   "source": [
    "from datetime import datetime, timedelta\n",
    "import pandas as pd\n",
    "import warnings\n",
    "warnings.filterwarnings(\"ignore\")"
   ]
  },
  {
   "cell_type": "code",
   "execution_count": 6,
   "metadata": {},
   "outputs": [
    {
     "name": "stdout",
     "output_type": "stream",
     "text": [
      "Deudores no encontrados: 51\n",
      "Deudores encontrados: 655\n",
      "Deudores con celular: 444\n"
     ]
    }
   ],
   "source": [
    "df_dacxanalista = pd.read_excel(ruta_dacxanalista+\"/Nuevo_DACxANALISTA.xlsx\", sheet_name=\"Base_NUEVA\")\n",
    "df_dacxanalista = df_dacxanalista[[\"DEUDOR\", \"TIPO_DAC\", \"ESTADO\"]]\n",
    "lista_tipo_dac_no_validos = [\"PVA\", \"TARJETERO\", \"RED\", \"RECARGA FFVV\", \"PROVEEDOR\", \"CROSSBORDER\", \"CDR\", \"CACE\", \"AGENTE TELMEX\", \"AGENTE TELMEX  / RED\", \"DAC RURAL\"]\n",
    "df_dacxanalista = df_dacxanalista[df_dacxanalista[\"ESTADO\"] == \"OPERATIVO CON MOVIMIENTO\"]\n",
    "df_dacxanalista = df_dacxanalista[~df_dacxanalista[\"TIPO_DAC\"].isin(lista_tipo_dac_no_validos)]\n",
    "\n",
    "# Valida que los deudores de la base se encuentren operativos en el dacxanalista\n",
    "deudores_dacxanalista = df_dacxanalista[\"DEUDOR\"].tolist()\n",
    "ruta_base_celulares = \"./bases/Base_Celulares_CCD.xlsx\"\n",
    "df_base_celulares = pd.read_excel(ruta_base_celulares)\n",
    "deudores_base = df_base_celulares[\"DEUDOR\"].tolist()\n",
    "\n",
    "no_encontrados = []\n",
    "for deudor in deudores_base:\n",
    "    if deudor not in deudores_dacxanalista:\n",
    "        no_encontrados.append(deudor)\n",
    "print(\"Deudores no encontrados:\",len(no_encontrados))\n",
    "print(\"Deudores encontrados:\",len(deudores_base)-len(no_encontrados))\n",
    "\n",
    "# Valida que los deudores tengan un celular valido\n",
    "df_base_celulares = df_base_celulares[~df_base_celulares[\"DEUDOR\"].isin(no_encontrados)]\n",
    "df_base_celulares = df_base_celulares[[\"DEUDOR\", \"NOMBRE\", \"CELULAR\"]]\n",
    "df_base_celulares = df_base_celulares[df_base_celulares[\"CELULAR\"]!=0]\n",
    "print(\"Deudores con celular:\", df_base_celulares.shape[0])"
   ]
  },
  {
   "cell_type": "code",
   "execution_count": 7,
   "metadata": {},
   "outputs": [
    {
     "data": {
      "text/html": [
       "<div>\n",
       "<style scoped>\n",
       "    .dataframe tbody tr th:only-of-type {\n",
       "        vertical-align: middle;\n",
       "    }\n",
       "\n",
       "    .dataframe tbody tr th {\n",
       "        vertical-align: top;\n",
       "    }\n",
       "\n",
       "    .dataframe thead th {\n",
       "        text-align: right;\n",
       "    }\n",
       "</style>\n",
       "<table border=\"1\" class=\"dataframe\">\n",
       "  <thead>\n",
       "    <tr style=\"text-align: right;\">\n",
       "      <th></th>\n",
       "      <th>DEUDOR</th>\n",
       "      <th>NOMBRE</th>\n",
       "      <th>CELULAR</th>\n",
       "    </tr>\n",
       "  </thead>\n",
       "  <tbody>\n",
       "    <tr>\n",
       "      <th>11</th>\n",
       "      <td>4070566</td>\n",
       "      <td>AQUINO DURAN EDITH</td>\n",
       "      <td>986786803</td>\n",
       "    </tr>\n",
       "    <tr>\n",
       "      <th>17</th>\n",
       "      <td>4070826</td>\n",
       "      <td>UMI CELL PHONE E.I.R.L.</td>\n",
       "      <td>964102128</td>\n",
       "    </tr>\n",
       "    <tr>\n",
       "      <th>18</th>\n",
       "      <td>4071033</td>\n",
       "      <td>WORK NET INGENIERIA Y TELECOMUNICACIONES S.A.</td>\n",
       "      <td>949073141</td>\n",
       "    </tr>\n",
       "    <tr>\n",
       "      <th>23</th>\n",
       "      <td>4071209</td>\n",
       "      <td>M &amp; R MARTINEZ E.I.R.L.</td>\n",
       "      <td>949093753</td>\n",
       "    </tr>\n",
       "    <tr>\n",
       "      <th>30</th>\n",
       "      <td>4071923</td>\n",
       "      <td>DASSA MOVIL S.A.C.</td>\n",
       "      <td>947703738</td>\n",
       "    </tr>\n",
       "  </tbody>\n",
       "</table>\n",
       "</div>"
      ],
      "text/plain": [
       "     DEUDOR                                         NOMBRE    CELULAR\n",
       "11  4070566                             AQUINO DURAN EDITH  986786803\n",
       "17  4070826                        UMI CELL PHONE E.I.R.L.  964102128\n",
       "18  4071033  WORK NET INGENIERIA Y TELECOMUNICACIONES S.A.  949073141\n",
       "23  4071209                        M & R MARTINEZ E.I.R.L.  949093753\n",
       "30  4071923                             DASSA MOVIL S.A.C.  947703738"
      ]
     },
     "execution_count": 7,
     "metadata": {},
     "output_type": "execute_result"
    }
   ],
   "source": [
    "df_base_celulares.head()"
   ]
  },
  {
   "cell_type": "code",
   "execution_count": 8,
   "metadata": {},
   "outputs": [
    {
     "data": {
      "text/plain": [
       "(444, 3)"
      ]
     },
     "execution_count": 8,
     "metadata": {},
     "output_type": "execute_result"
    }
   ],
   "source": [
    "df_base_celulares.shape"
   ]
  },
  {
   "cell_type": "code",
   "execution_count": null,
   "metadata": {},
   "outputs": [],
   "source": []
  },
  {
   "cell_type": "code",
   "execution_count": null,
   "metadata": {},
   "outputs": [],
   "source": [
    "df_dacxanalista.to_excel(\"DACxANALISTA.xlsx\",index=False)"
   ]
  }
 ],
 "metadata": {
  "kernelspec": {
   "display_name": "Python 3",
   "language": "python",
   "name": "python3"
  },
  "language_info": {
   "codemirror_mode": {
    "name": "ipython",
    "version": 3
   },
   "file_extension": ".py",
   "mimetype": "text/x-python",
   "name": "python",
   "nbconvert_exporter": "python",
   "pygments_lexer": "ipython3",
   "version": "3.10.9"
  }
 },
 "nbformat": 4,
 "nbformat_minor": 2
}
